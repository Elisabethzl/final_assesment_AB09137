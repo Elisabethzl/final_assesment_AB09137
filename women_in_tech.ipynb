{
 "cells": [
  {
   "cell_type": "markdown",
   "id": "concerned-ambassador",
   "metadata": {},
   "source": [
    "# Final Assessment Code Notebook"
   ]
  },
  {
   "cell_type": "code",
   "execution_count": 1,
   "id": "fluid-vacation",
   "metadata": {},
   "outputs": [],
   "source": [
    "## Imports for the varius libaraies\n",
    "import pandas as pd\n",
    "import numpy as np\n",
    "import seaborn as sns"
   ]
  },
  {
   "cell_type": "code",
   "execution_count": 2,
   "id": "departmental-strain",
   "metadata": {},
   "outputs": [
    {
     "data": {
      "text/html": [
       "<div>\n",
       "<style scoped>\n",
       "    .dataframe tbody tr th:only-of-type {\n",
       "        vertical-align: middle;\n",
       "    }\n",
       "\n",
       "    .dataframe tbody tr th {\n",
       "        vertical-align: top;\n",
       "    }\n",
       "\n",
       "    .dataframe thead th {\n",
       "        text-align: right;\n",
       "    }\n",
       "</style>\n",
       "<table border=\"1\" class=\"dataframe\">\n",
       "  <thead>\n",
       "    <tr style=\"text-align: right;\">\n",
       "      <th></th>\n",
       "      <th>Company</th>\n",
       "      <th>Female %</th>\n",
       "      <th>Male %</th>\n",
       "      <th>% White</th>\n",
       "      <th>% Asian</th>\n",
       "      <th>% Latino</th>\n",
       "      <th>% Black</th>\n",
       "      <th>% Multi</th>\n",
       "      <th>% Other</th>\n",
       "      <th>% Undeclared</th>\n",
       "      <th>Year Code</th>\n",
       "      <th>Type</th>\n",
       "    </tr>\n",
       "  </thead>\n",
       "  <tbody>\n",
       "    <tr>\n",
       "      <th>0</th>\n",
       "      <td>Facebook</td>\n",
       "      <td>35.0</td>\n",
       "      <td>65.0</td>\n",
       "      <td>49.0</td>\n",
       "      <td>40.0</td>\n",
       "      <td>5.0</td>\n",
       "      <td>3.0</td>\n",
       "      <td>3.0</td>\n",
       "      <td>1.00</td>\n",
       "      <td>NaN</td>\n",
       "      <td>5</td>\n",
       "      <td>Social Media</td>\n",
       "    </tr>\n",
       "    <tr>\n",
       "      <th>1</th>\n",
       "      <td>Instagram</td>\n",
       "      <td>35.0</td>\n",
       "      <td>65.0</td>\n",
       "      <td>49.0</td>\n",
       "      <td>40.0</td>\n",
       "      <td>5.0</td>\n",
       "      <td>3.0</td>\n",
       "      <td>3.0</td>\n",
       "      <td>1.00</td>\n",
       "      <td>NaN</td>\n",
       "      <td>5</td>\n",
       "      <td>Social Media</td>\n",
       "    </tr>\n",
       "    <tr>\n",
       "      <th>2</th>\n",
       "      <td>Google+</td>\n",
       "      <td>31.0</td>\n",
       "      <td>69.0</td>\n",
       "      <td>56.0</td>\n",
       "      <td>35.0</td>\n",
       "      <td>4.0</td>\n",
       "      <td>2.0</td>\n",
       "      <td>4.0</td>\n",
       "      <td>1.00</td>\n",
       "      <td>NaN</td>\n",
       "      <td>5</td>\n",
       "      <td>Social Media</td>\n",
       "    </tr>\n",
       "    <tr>\n",
       "      <th>3</th>\n",
       "      <td>YouTube</td>\n",
       "      <td>31.0</td>\n",
       "      <td>69.0</td>\n",
       "      <td>56.0</td>\n",
       "      <td>35.0</td>\n",
       "      <td>4.0</td>\n",
       "      <td>2.0</td>\n",
       "      <td>4.0</td>\n",
       "      <td>1.00</td>\n",
       "      <td>NaN</td>\n",
       "      <td>5</td>\n",
       "      <td>Social Media</td>\n",
       "    </tr>\n",
       "    <tr>\n",
       "      <th>4</th>\n",
       "      <td>LinkedIn</td>\n",
       "      <td>42.0</td>\n",
       "      <td>58.0</td>\n",
       "      <td>52.0</td>\n",
       "      <td>39.0</td>\n",
       "      <td>4.0</td>\n",
       "      <td>4.0</td>\n",
       "      <td>2.0</td>\n",
       "      <td>0.01</td>\n",
       "      <td>NaN</td>\n",
       "      <td>5</td>\n",
       "      <td>Social Media</td>\n",
       "    </tr>\n",
       "  </tbody>\n",
       "</table>\n",
       "</div>"
      ],
      "text/plain": [
       "     Company  Female %  Male %  % White  % Asian  % Latino  % Black  % Multi  \\\n",
       "0   Facebook      35.0    65.0     49.0     40.0       5.0      3.0      3.0   \n",
       "1  Instagram      35.0    65.0     49.0     40.0       5.0      3.0      3.0   \n",
       "2    Google+      31.0    69.0     56.0     35.0       4.0      2.0      4.0   \n",
       "3    YouTube      31.0    69.0     56.0     35.0       4.0      2.0      4.0   \n",
       "4   LinkedIn      42.0    58.0     52.0     39.0       4.0      4.0      2.0   \n",
       "\n",
       "   % Other  % Undeclared  Year Code          Type  \n",
       "0     1.00           NaN          5  Social Media  \n",
       "1     1.00           NaN          5  Social Media  \n",
       "2     1.00           NaN          5  Social Media  \n",
       "3     1.00           NaN          5  Social Media  \n",
       "4     0.01           NaN          5  Social Media  "
      ]
     },
     "execution_count": 2,
     "metadata": {},
     "output_type": "execute_result"
    }
   ],
   "source": [
    "## Import the excel spreadsheet\n",
    "data=pd.read_excel(\"data/final2.xlsx\")\n",
    "\n",
    "## Get the head of data to check its all in order\n",
    "data.head()"
   ]
  },
  {
   "cell_type": "code",
   "execution_count": 15,
   "id": "arctic-locator",
   "metadata": {
    "scrolled": true
   },
   "outputs": [
    {
     "name": "stdout",
     "output_type": "stream",
     "text": [
      "Chose to filter from Social Media, Typical Population, Comparison, Tech Companies: finrf\n"
     ]
    },
    {
     "data": {
      "text/html": [
       "<div>\n",
       "<style scoped>\n",
       "    .dataframe tbody tr th:only-of-type {\n",
       "        vertical-align: middle;\n",
       "    }\n",
       "\n",
       "    .dataframe tbody tr th {\n",
       "        vertical-align: top;\n",
       "    }\n",
       "\n",
       "    .dataframe thead th {\n",
       "        text-align: right;\n",
       "    }\n",
       "</style>\n",
       "<table border=\"1\" class=\"dataframe\">\n",
       "  <thead>\n",
       "    <tr style=\"text-align: right;\">\n",
       "      <th></th>\n",
       "      <th>Company</th>\n",
       "      <th>Female %</th>\n",
       "      <th>Male %</th>\n",
       "      <th>% White</th>\n",
       "      <th>% Asian</th>\n",
       "      <th>% Latino</th>\n",
       "      <th>% Black</th>\n",
       "      <th>% Multi</th>\n",
       "      <th>% Other</th>\n",
       "      <th>% Undeclared</th>\n",
       "      <th>Year Code</th>\n",
       "      <th>Type</th>\n",
       "    </tr>\n",
       "  </thead>\n",
       "  <tbody>\n",
       "  </tbody>\n",
       "</table>\n",
       "</div>"
      ],
      "text/plain": [
       "Empty DataFrame\n",
       "Columns: [Company, Female %, Male %, % White, % Asian, % Latino, % Black, % Multi, % Other, % Undeclared, Year Code, Type]\n",
       "Index: []"
      ]
     },
     "execution_count": 15,
     "metadata": {},
     "output_type": "execute_result"
    }
   ],
   "source": [
    "## Since I reordered the dataset in excel, I can just ask pandas to give my any type of data that I need:\n",
    "types = ', '.join(set(data[\"Type\"].tolist()))\n",
    "types = input(\"Chose to filter from \"+ types + \": \")\n",
    "\n",
    "data[data[\"Type\"] == types]"
   ]
  },
  {
   "cell_type": "markdown",
   "id": "happy-handy",
   "metadata": {},
   "source": [
    "The cell above takes a raw list of all the rows of data in the ```Type``` column, filters out the repeats using ```set()``` then compiles them into a comma seperated using ```\", \".join(array)``` and then asks the user which of those values they would like to filter for, then indexes the ```data``` DataFrame to filter out those values"
   ]
  },
  {
   "cell_type": "code",
   "execution_count": null,
   "id": "hybrid-granny",
   "metadata": {},
   "outputs": [],
   "source": []
  }
 ],
 "metadata": {
  "kernelspec": {
   "display_name": "Python 3",
   "language": "python",
   "name": "python3"
  },
  "language_info": {
   "codemirror_mode": {
    "name": "ipython",
    "version": 3
   },
   "file_extension": ".py",
   "mimetype": "text/x-python",
   "name": "python",
   "nbconvert_exporter": "python",
   "pygments_lexer": "ipython3",
   "version": "3.8.8"
  }
 },
 "nbformat": 4,
 "nbformat_minor": 5
}
