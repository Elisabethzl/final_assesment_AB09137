{
 "cells": [
  {
   "cell_type": "code",
   "execution_count": 11,
   "metadata": {},
   "outputs": [],
   "source": [
    "import pandas as pd\n",
    "import numpy as np   \n",
    "import seaborn as sns\n",
    "import matplotlib.pyplot as plt\n",
    "\n",
    "# Use seaborn's default graphing theme\n",
    "sns.set_theme()\n",
    "\n",
    "import warnings\n",
    "warnings.filterwarnings(\"ignore\")"
   ]
  },
  {
   "cell_type": "code",
   "execution_count": 12,
   "metadata": {
    "scrolled": true
   },
   "outputs": [
    {
     "data": {
      "text/html": [
       "<div>\n",
       "<style scoped>\n",
       "    .dataframe tbody tr th:only-of-type {\n",
       "        vertical-align: middle;\n",
       "    }\n",
       "\n",
       "    .dataframe tbody tr th {\n",
       "        vertical-align: top;\n",
       "    }\n",
       "\n",
       "    .dataframe thead th {\n",
       "        text-align: right;\n",
       "    }\n",
       "</style>\n",
       "<table border=\"1\" class=\"dataframe\">\n",
       "  <thead>\n",
       "    <tr style=\"text-align: right;\">\n",
       "      <th></th>\n",
       "      <th>Company</th>\n",
       "      <th>Female %</th>\n",
       "      <th>Male %</th>\n",
       "      <th>% White</th>\n",
       "      <th>% Asian</th>\n",
       "      <th>% Latino</th>\n",
       "      <th>% Black</th>\n",
       "      <th>% Multi</th>\n",
       "      <th>% Other</th>\n",
       "      <th>% Undeclared</th>\n",
       "      <th>Year Code</th>\n",
       "      <th>Type</th>\n",
       "    </tr>\n",
       "  </thead>\n",
       "  <tbody>\n",
       "    <tr>\n",
       "      <th>0</th>\n",
       "      <td>Facebook</td>\n",
       "      <td>35.0</td>\n",
       "      <td>65.0</td>\n",
       "      <td>49.0</td>\n",
       "      <td>40.0</td>\n",
       "      <td>5.0</td>\n",
       "      <td>3.0</td>\n",
       "      <td>3.0</td>\n",
       "      <td>1.00</td>\n",
       "      <td>NaN</td>\n",
       "      <td>5</td>\n",
       "      <td>Social Media</td>\n",
       "    </tr>\n",
       "    <tr>\n",
       "      <th>1</th>\n",
       "      <td>Instagram</td>\n",
       "      <td>35.0</td>\n",
       "      <td>65.0</td>\n",
       "      <td>49.0</td>\n",
       "      <td>40.0</td>\n",
       "      <td>5.0</td>\n",
       "      <td>3.0</td>\n",
       "      <td>3.0</td>\n",
       "      <td>1.00</td>\n",
       "      <td>NaN</td>\n",
       "      <td>5</td>\n",
       "      <td>Social Media</td>\n",
       "    </tr>\n",
       "    <tr>\n",
       "      <th>2</th>\n",
       "      <td>Google+</td>\n",
       "      <td>31.0</td>\n",
       "      <td>69.0</td>\n",
       "      <td>56.0</td>\n",
       "      <td>35.0</td>\n",
       "      <td>4.0</td>\n",
       "      <td>2.0</td>\n",
       "      <td>4.0</td>\n",
       "      <td>1.00</td>\n",
       "      <td>NaN</td>\n",
       "      <td>5</td>\n",
       "      <td>Social Media</td>\n",
       "    </tr>\n",
       "    <tr>\n",
       "      <th>3</th>\n",
       "      <td>YouTube</td>\n",
       "      <td>31.0</td>\n",
       "      <td>69.0</td>\n",
       "      <td>56.0</td>\n",
       "      <td>35.0</td>\n",
       "      <td>4.0</td>\n",
       "      <td>2.0</td>\n",
       "      <td>4.0</td>\n",
       "      <td>1.00</td>\n",
       "      <td>NaN</td>\n",
       "      <td>5</td>\n",
       "      <td>Social Media</td>\n",
       "    </tr>\n",
       "    <tr>\n",
       "      <th>4</th>\n",
       "      <td>LinkedIn</td>\n",
       "      <td>42.0</td>\n",
       "      <td>58.0</td>\n",
       "      <td>52.0</td>\n",
       "      <td>39.0</td>\n",
       "      <td>4.0</td>\n",
       "      <td>4.0</td>\n",
       "      <td>2.0</td>\n",
       "      <td>0.01</td>\n",
       "      <td>NaN</td>\n",
       "      <td>5</td>\n",
       "      <td>Social Media</td>\n",
       "    </tr>\n",
       "  </tbody>\n",
       "</table>\n",
       "</div>"
      ],
      "text/plain": [
       "     Company  Female %  Male %  % White  % Asian  % Latino  % Black  % Multi  \\\n",
       "0   Facebook      35.0    65.0     49.0     40.0       5.0      3.0      3.0   \n",
       "1  Instagram      35.0    65.0     49.0     40.0       5.0      3.0      3.0   \n",
       "2    Google+      31.0    69.0     56.0     35.0       4.0      2.0      4.0   \n",
       "3    YouTube      31.0    69.0     56.0     35.0       4.0      2.0      4.0   \n",
       "4   LinkedIn      42.0    58.0     52.0     39.0       4.0      4.0      2.0   \n",
       "\n",
       "   % Other  % Undeclared  Year Code          Type  \n",
       "0     1.00           NaN          5  Social Media  \n",
       "1     1.00           NaN          5  Social Media  \n",
       "2     1.00           NaN          5  Social Media  \n",
       "3     1.00           NaN          5  Social Media  \n",
       "4     0.01           NaN          5  Social Media  "
      ]
     },
     "execution_count": 12,
     "metadata": {},
     "output_type": "execute_result"
    }
   ],
   "source": [
    "data=pd.read_excel(\"data/final2.xlsx\")\n",
    "\n",
    "data.head()"
   ]
  },
  {
   "cell_type": "markdown",
   "metadata": {},
   "source": [
    "hello"
   ]
  },
  {
   "cell_type": "code",
   "execution_count": 16,
   "metadata": {
    "pycharm": {
     "is_executing": true
    }
   },
   "outputs": [
    {
     "name": "stdout",
     "output_type": "stream",
     "text": [
      "Which Type of data? Tech Companies\n"
     ]
    },
    {
     "data": {
      "text/plain": [
       "<seaborn.axisgrid.FacetGrid at 0x7fa575de60d0>"
      ]
     },
     "execution_count": 16,
     "metadata": {},
     "output_type": "execute_result"
    },
    {
     "data": {
      "image/png": "[encoded data removed]",
      "text/plain": [
       "<Figure size 374.1x360 with 1 Axes>"
      ]
     },
     "metadata": {},
     "output_type": "display_data"
    }
   ],
   "source": [
    "column = input(\"Which Type of data? \")\n",
    "\n",
    "if not column:\n",
    "    column = \"Tech Companies\"\n",
    "\n",
    "sns.relplot(\n",
    "    data=data[data[\"Type\"] == column],\n",
    "    x=\"Year Code\", y=\"Female %\",\n",
    "    hue=\"Company\",\n",
    "    kind=\"line\",\n",
    "    height=5, aspect=.75\n",
    ")"
   ]
  },
  {
   "cell_type": "code",
   "execution_count": 17,
   "metadata": {},
   "outputs": [],
   "source": [
    "## This script graphs the change of percentage of women in a company over time\n",
    "\n",
    "def female_percentage_change(comp=False):\n",
    "    if not comp: comp = \"Cisco\"\n",
    "    \n",
    "    ## Filter for only the relevant cols and sort by year\n",
    "    filtered = data[[\"Female %\", \"Year Code\"]][data[\"Company\"]==comp].sort_values(by=[\"Year Code\"], ascending=True)\n",
    "    \n",
    "    #Get the change in years for that particular company:\n",
    "    ## Filtered only the Female % otherwise the % change of year code would be calculated (we dont want that)\n",
    "    change = filtered.pct_change()\n",
    "    \n",
    "    ## Add the Year Code back in after the % change operation is done:\n",
    "    change[\"Year Code\"] = filtered[\"Year Code\"]\n",
    "\n",
    "    if not change.empty:\n",
    "        sns.barplot(x=\"Year Code\", y=\"Female %\", data=change)\n",
    "        plt.show()\n",
    "    else:\n",
    "        print(\"That was an empty DataFrame\")"
   ]
  },
  {
   "cell_type": "code",
   "execution_count": 18,
   "metadata": {
    "pycharm": {
     "name": "#%%\n"
    }
   },
   "outputs": [],
   "source": [
    "## This script takes a company name and looks at its percentage over time:\n",
    "\n",
    "def female_percentage(comp=False):\n",
    "    ## Get a name of a company\n",
    "    if not comp: comp = \"Cisco\"\n",
    "    \n",
    "    ## Filter for only the relevant cols and sort by year\n",
    "    filtered = data[[\"Female %\", \"Year Code\"]][data[\"Company\"]==comp].sort_values(by=[\"Year Code\"], ascending=True)\n",
    "\n",
    "    if not filtered.empty:\n",
    "        sns.barplot(x=\"Year Code\", y=\"Female %\", data=filtered)\n",
    "        plt.show()\n",
    "    else:\n",
    "        print(\"That was an empty DataFrame\")"
   ]
  },
  {
   "cell_type": "code",
   "execution_count": 20,
   "metadata": {},
   "outputs": [
    {
     "data": {
      "image/png": "[encoded data removed]",
      "text/plain": [
       "<Figure size 432x288 with 1 Axes>"
      ]
     },
     "metadata": {},
     "output_type": "display_data"
    }
   ],
   "source": [
    "female_percentage_change(\"eBay\")"
   ]
  },
  {
   "cell_type": "code",
   "execution_count": null,
   "metadata": {},
   "outputs": [],
   "source": [
    "## This script compares a companies Female % in year X with the average population in that year X aswell\n",
    "\n",
    "def compare_against_typical(year=5):\n",
    "    ## Array of all the companies in the specified year:\n",
    "    list_of_comps = data[(data[\"Year Code\"]==year)][\"Company\"].array\n",
    "    \n",
    "    ## Get the year that I want\n",
    "    filt = (data[\"Year Code\"]==year)\n",
    "    comp_fem = data[filt]\n",
    "    \n",
    "    ## Filter only the Female % of that company\n",
    "    comp_fem = comp_fem[\"Female %\"]\n",
    "    \n",
    "    ## Get the typical female % in a population for a year\n",
    "    filt = (data['Year Code']==year) & (data['Type']==\"Typical Population\")\n",
    "    typ_fem = data[filt]\n",
    "    \n",
    "    ## Get only the female % from there.\n",
    "    typ_fem = typ_fem[\"Female %\"]\n",
    "    \n",
    "    ## Ensure that theyre both dataframes and reset the indexes\n",
    "    comp_fem = pd.DataFrame(comp_fem)\n",
    "    comp_fem.reset_index(drop=True, inplace=True)\n",
    "    typ_fem = pd.DataFrame(typ_fem)\n",
    "    typ_fem.reset_index(drop=True, inplace=True)\n",
    "    \n",
    "    ## Make a long list of \"company\" to add as a new column\n",
    "    kind=[]\n",
    "    for i in range(0, len(comp_fem)):\n",
    "        kind.append(\"Company\")\n",
    "    \n",
    "    ## Add that long column to the company_female DataFrame\n",
    "    comp_fem[\"Kind\"] = kind\n",
    "    comp_fem[\"Company\"] = list_of_comps\n",
    "\n",
    "    ## Create a long list of \"typical\" to add as a new column\n",
    "    kind=[]\n",
    "    percentage = []\n",
    "    for i in range(0, len(comp_fem)):\n",
    "        kind.append(\"Typical\")\n",
    "        percentage.append(typ_fem[\"Female %\"][0])\n",
    "    \n",
    "    typ_fem = pd.DataFrame({\"Female %\" : percentage, \"Kind\" : kind, \"Company\" : list_of_comps})\n",
    "    \n",
    "    combined = typ_fem.append(comp_fem)\n",
    "    \n",
    "    sns.catplot(x=\"Female %\", y=\"Company\", hue=\"Kind\", kind=\"bar\", data=combined)\n",
    "        "
   ]
  },
  {
   "cell_type": "code",
   "execution_count": null,
   "metadata": {},
   "outputs": [],
   "source": [
    "compare_against_typical(1)"
   ]
  },
  {
   "cell_type": "code",
   "execution_count": null,
   "metadata": {
    "pycharm": {
     "name": "#%%\n"
    }
   },
   "outputs": [],
   "source": [
    "## This script return the mean % of Female employed in year x\n",
    "pd.DataFrame(data)\n",
    "\n",
    "\n",
    "def mean_year(year=1):\n",
    "    year = data[(data[\"Year Code\"]==year)]\n",
    "    year = year[\"Female %\"]\n",
    "    return year.mean()"
   ]
  },
  {
   "cell_type": "code",
   "execution_count": null,
   "metadata": {
    "pycharm": {
     "name": "#%%\n"
    }
   },
   "outputs": [],
   "source": [
    "mean_year()"
   ]
  },
  {
   "cell_type": "code",
   "execution_count": null,
   "metadata": {
    "pycharm": {
     "name": "#%%\n"
    }
   },
   "outputs": [],
   "source": [
    "## This returns the typical female % of the population in a given year\n",
    "\n",
    "def female_pop(year=1):\n",
    "    year = data[(data[\"Year Code\"]==year)]\n",
    "    year = year[data[\"Type\"]==\"Typical Population\"]\n",
    "    return year[\"Female %\"].mean()"
   ]
  },
  {
   "cell_type": "code",
   "execution_count": null,
   "metadata": {
    "pycharm": {
     "name": "#%%\n"
    }
   },
   "outputs": [],
   "source": [
    "female_pop(5)"
   ]
  },
  {
   "cell_type": "code",
   "execution_count": null,
   "metadata": {
    "pycharm": {
     "name": "#%%\n"
    }
   },
   "outputs": [],
   "source": []
  },
  {
   "cell_type": "code",
   "execution_count": null,
   "metadata": {},
   "outputs": [],
   "source": []
  },
  {
   "cell_type": "code",
   "execution_count": null,
   "metadata": {},
   "outputs": [],
   "source": [
    "mean_year()"
   ]
  },
  {
   "cell_type": "code",
   "execution_count": null,
   "metadata": {},
   "outputs": [],
   "source": [
    "## This returns the typical female % of the population in a given year\n",
    "\n",
    "def female_pop(year=1):\n",
    "    year = data[(data[\"Year Code\"]==year)]\n",
    "    year = year[data[\"Type\"]==\"Typical Population\"]\n",
    "    return year[\"Female %\"].mean()"
   ]
  },
  {
   "cell_type": "code",
   "execution_count": null,
   "metadata": {},
   "outputs": [],
   "source": [
    "female_pop(5)"
   ]
  },
  {
   "cell_type": "code",
   "execution_count": null,
   "metadata": {},
   "outputs": [],
   "source": []
  },
  {
   "cell_type": "code",
   "execution_count": null,
   "metadata": {},
   "outputs": [],
   "source": []
  }
 ],
 "metadata": {
  "kernelspec": {
   "display_name": "Python 3",
   "language": "python",
   "name": "python3"
  },
  "language_info": {
   "codemirror_mode": {
    "name": "ipython",
    "version": 3
   },
   "file_extension": ".py",
   "mimetype": "text/x-python",
   "name": "python",
   "nbconvert_exporter": "python",
   "pygments_lexer": "ipython3",
   "version": "3.8.5"
  }
 },
 "nbformat": 4,
 "nbformat_minor": 4
}
